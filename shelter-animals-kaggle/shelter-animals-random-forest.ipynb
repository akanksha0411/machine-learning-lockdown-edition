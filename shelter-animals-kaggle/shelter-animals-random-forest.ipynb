{
 "cells": [
  {
   "cell_type": "markdown",
   "metadata": {},
   "source": [
    "The data comes from Austin Animal Center from October 1st, 2013 to March, 2016. Outcomes represent the status of animals as they leave the Animal Center. All animals receive a unique Animal ID during intake. \n",
    "\n",
    "In this competition, you are going to predict the outcome of the animal as they leave the Animal Center. These outcomes include: Adoption, Died, Euthanasia, Return to owner, and Transfer. \n",
    "\n",
    "Data can be found at https://www.kaggle.com/c/shelter-animal-outcomes/data"
   ]
  },
  {
   "cell_type": "markdown",
   "metadata": {},
   "source": [
    "### Imports"
   ]
  },
  {
   "cell_type": "code",
   "execution_count": 1,
   "metadata": {
    "scrolled": false
   },
   "outputs": [],
   "source": [
    "%load_ext autoreload\n",
    "%autoreload 2\n",
    "\n",
    "%matplotlib inline\n"
   ]
  },
  {
   "cell_type": "code",
   "execution_count": 2,
   "metadata": {},
   "outputs": [
    {
     "name": "stderr",
     "output_type": "stream",
     "text": [
      "/home/muffinloop/anaconda3/envs/fastai/lib/python3.7/site-packages/sklearn/utils/deprecation.py:144: FutureWarning: The sklearn.ensemble.forest module is  deprecated in version 0.22 and will be removed in version 0.24. The corresponding classes / functions should instead be imported from sklearn.ensemble. Anything that cannot be imported from sklearn.ensemble is now part of the private API.\n",
      "  warnings.warn(message, FutureWarning)\n"
     ]
    }
   ],
   "source": [
    "from fastai.imports import *\n",
    "from fastai.structured import *\n",
    "from pandas_summary import DataFrameSummary\n",
    "from sklearn.ensemble import RandomForestClassifier, RandomForestRegressor\n",
    "from IPython.display import display\n",
    "from sklearn.metrics import accuracy_score, log_loss\n",
    "from sklearn.model_selection import cross_val_score\n",
    "from sklearn.model_selection import GridSearchCV\n",
    "from sklearn.model_selection import cross_validate"
   ]
  },
  {
   "cell_type": "markdown",
   "metadata": {},
   "source": [
    "Path to the directory where you've downloaded the data"
   ]
  },
  {
   "cell_type": "code",
   "execution_count": 3,
   "metadata": {},
   "outputs": [],
   "source": [
    "PATH = 'data/'"
   ]
  },
  {
   "cell_type": "code",
   "execution_count": 4,
   "metadata": {},
   "outputs": [
    {
     "name": "stdout",
     "output_type": "stream",
     "text": [
      "sample_submission.csv  shelter-animal-outcomes.zip  test.csv  train.csv\r\n"
     ]
    }
   ],
   "source": [
    "!ls {PATH}"
   ]
  },
  {
   "cell_type": "markdown",
   "metadata": {},
   "source": [
    "Reading data in the form of a data frame, dropping some unneccesary columns"
   ]
  },
  {
   "cell_type": "code",
   "execution_count": 5,
   "metadata": {},
   "outputs": [
    {
     "data": {
      "text/html": [
       "<div>\n",
       "<style scoped>\n",
       "    .dataframe tbody tr th:only-of-type {\n",
       "        vertical-align: middle;\n",
       "    }\n",
       "\n",
       "    .dataframe tbody tr th {\n",
       "        vertical-align: top;\n",
       "    }\n",
       "\n",
       "    .dataframe thead th {\n",
       "        text-align: right;\n",
       "    }\n",
       "</style>\n",
       "<table border=\"1\" class=\"dataframe\">\n",
       "  <thead>\n",
       "    <tr style=\"text-align: right;\">\n",
       "      <th></th>\n",
       "      <th>AnimalID</th>\n",
       "      <th>Name</th>\n",
       "      <th>DateTime</th>\n",
       "      <th>OutcomeType</th>\n",
       "      <th>OutcomeSubtype</th>\n",
       "      <th>AnimalType</th>\n",
       "      <th>SexuponOutcome</th>\n",
       "      <th>AgeuponOutcome</th>\n",
       "      <th>Breed</th>\n",
       "      <th>Color</th>\n",
       "    </tr>\n",
       "  </thead>\n",
       "  <tbody>\n",
       "    <tr>\n",
       "      <th>0</th>\n",
       "      <td>A671945</td>\n",
       "      <td>Hambone</td>\n",
       "      <td>2014-02-12 18:22:00</td>\n",
       "      <td>Return_to_owner</td>\n",
       "      <td>NaN</td>\n",
       "      <td>Dog</td>\n",
       "      <td>Neutered Male</td>\n",
       "      <td>1 year</td>\n",
       "      <td>Shetland Sheepdog Mix</td>\n",
       "      <td>Brown/White</td>\n",
       "    </tr>\n",
       "    <tr>\n",
       "      <th>1</th>\n",
       "      <td>A656520</td>\n",
       "      <td>Emily</td>\n",
       "      <td>2013-10-13 12:44:00</td>\n",
       "      <td>Euthanasia</td>\n",
       "      <td>Suffering</td>\n",
       "      <td>Cat</td>\n",
       "      <td>Spayed Female</td>\n",
       "      <td>1 year</td>\n",
       "      <td>Domestic Shorthair Mix</td>\n",
       "      <td>Cream Tabby</td>\n",
       "    </tr>\n",
       "    <tr>\n",
       "      <th>2</th>\n",
       "      <td>A686464</td>\n",
       "      <td>Pearce</td>\n",
       "      <td>2015-01-31 12:28:00</td>\n",
       "      <td>Adoption</td>\n",
       "      <td>Foster</td>\n",
       "      <td>Dog</td>\n",
       "      <td>Neutered Male</td>\n",
       "      <td>2 years</td>\n",
       "      <td>Pit Bull Mix</td>\n",
       "      <td>Blue/White</td>\n",
       "    </tr>\n",
       "    <tr>\n",
       "      <th>3</th>\n",
       "      <td>A683430</td>\n",
       "      <td>NaN</td>\n",
       "      <td>2014-07-11 19:09:00</td>\n",
       "      <td>Transfer</td>\n",
       "      <td>Partner</td>\n",
       "      <td>Cat</td>\n",
       "      <td>Intact Male</td>\n",
       "      <td>3 weeks</td>\n",
       "      <td>Domestic Shorthair Mix</td>\n",
       "      <td>Blue Cream</td>\n",
       "    </tr>\n",
       "    <tr>\n",
       "      <th>4</th>\n",
       "      <td>A667013</td>\n",
       "      <td>NaN</td>\n",
       "      <td>2013-11-15 12:52:00</td>\n",
       "      <td>Transfer</td>\n",
       "      <td>Partner</td>\n",
       "      <td>Dog</td>\n",
       "      <td>Neutered Male</td>\n",
       "      <td>2 years</td>\n",
       "      <td>Lhasa Apso/Miniature Poodle</td>\n",
       "      <td>Tan</td>\n",
       "    </tr>\n",
       "  </tbody>\n",
       "</table>\n",
       "</div>"
      ],
      "text/plain": [
       "  AnimalID     Name            DateTime      OutcomeType OutcomeSubtype  \\\n",
       "0  A671945  Hambone 2014-02-12 18:22:00  Return_to_owner            NaN   \n",
       "1  A656520    Emily 2013-10-13 12:44:00       Euthanasia      Suffering   \n",
       "2  A686464   Pearce 2015-01-31 12:28:00         Adoption         Foster   \n",
       "3  A683430      NaN 2014-07-11 19:09:00         Transfer        Partner   \n",
       "4  A667013      NaN 2013-11-15 12:52:00         Transfer        Partner   \n",
       "\n",
       "  AnimalType SexuponOutcome AgeuponOutcome                        Breed  \\\n",
       "0        Dog  Neutered Male         1 year        Shetland Sheepdog Mix   \n",
       "1        Cat  Spayed Female         1 year       Domestic Shorthair Mix   \n",
       "2        Dog  Neutered Male        2 years                 Pit Bull Mix   \n",
       "3        Cat    Intact Male        3 weeks       Domestic Shorthair Mix   \n",
       "4        Dog  Neutered Male        2 years  Lhasa Apso/Miniature Poodle   \n",
       "\n",
       "         Color  \n",
       "0  Brown/White  \n",
       "1  Cream Tabby  \n",
       "2   Blue/White  \n",
       "3   Blue Cream  \n",
       "4          Tan  "
      ]
     },
     "execution_count": 5,
     "metadata": {},
     "output_type": "execute_result"
    }
   ],
   "source": [
    "df = pd.read_csv(f'{PATH}train.csv', low_memory= False, parse_dates= ['DateTime'])\n",
    "df.head()"
   ]
  },
  {
   "cell_type": "code",
   "execution_count": 6,
   "metadata": {},
   "outputs": [],
   "source": [
    "df.drop(['OutcomeSubtype'], axis = 1,  inplace = True)"
   ]
  },
  {
   "cell_type": "code",
   "execution_count": 7,
   "metadata": {},
   "outputs": [],
   "source": [
    "\"\"\"\n",
    "Function to display all rows and columns of a data frame.\n",
    "Arguments : \n",
    "df : data frame you want to display\n",
    "\"\"\"\n",
    "def display_all(df):\n",
    "    with pd.option_context('display.max_rows', 1000, 'display.max_columns', 1000):\n",
    "        display(df)"
   ]
  },
  {
   "cell_type": "code",
   "execution_count": 8,
   "metadata": {},
   "outputs": [
    {
     "data": {
      "text/html": [
       "<div>\n",
       "<style scoped>\n",
       "    .dataframe tbody tr th:only-of-type {\n",
       "        vertical-align: middle;\n",
       "    }\n",
       "\n",
       "    .dataframe tbody tr th {\n",
       "        vertical-align: top;\n",
       "    }\n",
       "\n",
       "    .dataframe thead th {\n",
       "        text-align: right;\n",
       "    }\n",
       "</style>\n",
       "<table border=\"1\" class=\"dataframe\">\n",
       "  <thead>\n",
       "    <tr style=\"text-align: right;\">\n",
       "      <th></th>\n",
       "      <th>AnimalID</th>\n",
       "      <th>Name</th>\n",
       "      <th>DateTime</th>\n",
       "      <th>OutcomeType</th>\n",
       "      <th>AnimalType</th>\n",
       "      <th>SexuponOutcome</th>\n",
       "      <th>AgeuponOutcome</th>\n",
       "      <th>Breed</th>\n",
       "      <th>Color</th>\n",
       "    </tr>\n",
       "  </thead>\n",
       "  <tbody>\n",
       "    <tr>\n",
       "      <th>26724</th>\n",
       "      <td>A702446</td>\n",
       "      <td>NaN</td>\n",
       "      <td>2015-05-14 11:56:00</td>\n",
       "      <td>Transfer</td>\n",
       "      <td>Cat</td>\n",
       "      <td>Intact Male</td>\n",
       "      <td>1 month</td>\n",
       "      <td>Domestic Shorthair Mix</td>\n",
       "      <td>Brown Tabby/White</td>\n",
       "    </tr>\n",
       "    <tr>\n",
       "      <th>26725</th>\n",
       "      <td>A718934</td>\n",
       "      <td>NaN</td>\n",
       "      <td>2016-01-20 18:59:00</td>\n",
       "      <td>Transfer</td>\n",
       "      <td>Cat</td>\n",
       "      <td>Spayed Female</td>\n",
       "      <td>3 months</td>\n",
       "      <td>Domestic Shorthair Mix</td>\n",
       "      <td>Brown Tabby</td>\n",
       "    </tr>\n",
       "    <tr>\n",
       "      <th>26726</th>\n",
       "      <td>A698128</td>\n",
       "      <td>Zeus</td>\n",
       "      <td>2015-03-09 13:33:00</td>\n",
       "      <td>Adoption</td>\n",
       "      <td>Dog</td>\n",
       "      <td>Neutered Male</td>\n",
       "      <td>4 years</td>\n",
       "      <td>Old English Bulldog Mix</td>\n",
       "      <td>White/Tan</td>\n",
       "    </tr>\n",
       "    <tr>\n",
       "      <th>26727</th>\n",
       "      <td>A677478</td>\n",
       "      <td>NaN</td>\n",
       "      <td>2014-04-27 12:22:00</td>\n",
       "      <td>Transfer</td>\n",
       "      <td>Cat</td>\n",
       "      <td>Intact Male</td>\n",
       "      <td>4 weeks</td>\n",
       "      <td>Domestic Shorthair Mix</td>\n",
       "      <td>Black</td>\n",
       "    </tr>\n",
       "    <tr>\n",
       "      <th>26728</th>\n",
       "      <td>A706629</td>\n",
       "      <td>NaN</td>\n",
       "      <td>2015-07-02 09:00:00</td>\n",
       "      <td>Transfer</td>\n",
       "      <td>Cat</td>\n",
       "      <td>Intact Male</td>\n",
       "      <td>1 year</td>\n",
       "      <td>Domestic Shorthair Mix</td>\n",
       "      <td>Brown Tabby/White</td>\n",
       "    </tr>\n",
       "  </tbody>\n",
       "</table>\n",
       "</div>"
      ],
      "text/plain": [
       "      AnimalID  Name            DateTime OutcomeType AnimalType  \\\n",
       "26724  A702446   NaN 2015-05-14 11:56:00    Transfer        Cat   \n",
       "26725  A718934   NaN 2016-01-20 18:59:00    Transfer        Cat   \n",
       "26726  A698128  Zeus 2015-03-09 13:33:00    Adoption        Dog   \n",
       "26727  A677478   NaN 2014-04-27 12:22:00    Transfer        Cat   \n",
       "26728  A706629   NaN 2015-07-02 09:00:00    Transfer        Cat   \n",
       "\n",
       "      SexuponOutcome AgeuponOutcome                    Breed  \\\n",
       "26724    Intact Male        1 month   Domestic Shorthair Mix   \n",
       "26725  Spayed Female       3 months   Domestic Shorthair Mix   \n",
       "26726  Neutered Male        4 years  Old English Bulldog Mix   \n",
       "26727    Intact Male        4 weeks   Domestic Shorthair Mix   \n",
       "26728    Intact Male         1 year   Domestic Shorthair Mix   \n",
       "\n",
       "                   Color  \n",
       "26724  Brown Tabby/White  \n",
       "26725        Brown Tabby  \n",
       "26726          White/Tan  \n",
       "26727              Black  \n",
       "26728  Brown Tabby/White  "
      ]
     },
     "metadata": {},
     "output_type": "display_data"
    }
   ],
   "source": [
    "display_all(df.tail())"
   ]
  },
  {
   "cell_type": "code",
   "execution_count": 9,
   "metadata": {},
   "outputs": [
    {
     "data": {
      "text/plain": [
       "Index(['AnimalID', 'Name', 'DateTime', 'OutcomeType', 'AnimalType',\n",
       "       'SexuponOutcome', 'AgeuponOutcome', 'Breed', 'Color'],\n",
       "      dtype='object')"
      ]
     },
     "execution_count": 9,
     "metadata": {},
     "output_type": "execute_result"
    }
   ],
   "source": [
    "df.columns"
   ]
  },
  {
   "cell_type": "code",
   "execution_count": 10,
   "metadata": {},
   "outputs": [
    {
     "data": {
      "text/html": [
       "<div>\n",
       "<style scoped>\n",
       "    .dataframe tbody tr th:only-of-type {\n",
       "        vertical-align: middle;\n",
       "    }\n",
       "\n",
       "    .dataframe tbody tr th {\n",
       "        vertical-align: top;\n",
       "    }\n",
       "\n",
       "    .dataframe thead th {\n",
       "        text-align: right;\n",
       "    }\n",
       "</style>\n",
       "<table border=\"1\" class=\"dataframe\">\n",
       "  <thead>\n",
       "    <tr style=\"text-align: right;\">\n",
       "      <th></th>\n",
       "      <th>count</th>\n",
       "      <th>unique</th>\n",
       "      <th>top</th>\n",
       "      <th>freq</th>\n",
       "      <th>first</th>\n",
       "      <th>last</th>\n",
       "    </tr>\n",
       "  </thead>\n",
       "  <tbody>\n",
       "    <tr>\n",
       "      <th>AnimalID</th>\n",
       "      <td>26729</td>\n",
       "      <td>26729</td>\n",
       "      <td>A691031</td>\n",
       "      <td>1</td>\n",
       "      <td>NaT</td>\n",
       "      <td>NaT</td>\n",
       "    </tr>\n",
       "    <tr>\n",
       "      <th>Name</th>\n",
       "      <td>19038</td>\n",
       "      <td>6374</td>\n",
       "      <td>Max</td>\n",
       "      <td>136</td>\n",
       "      <td>NaT</td>\n",
       "      <td>NaT</td>\n",
       "    </tr>\n",
       "    <tr>\n",
       "      <th>DateTime</th>\n",
       "      <td>26729</td>\n",
       "      <td>22918</td>\n",
       "      <td>2015-08-11 00:00:00</td>\n",
       "      <td>19</td>\n",
       "      <td>2013-10-01 09:31:00</td>\n",
       "      <td>2016-02-21 19:17:00</td>\n",
       "    </tr>\n",
       "    <tr>\n",
       "      <th>OutcomeType</th>\n",
       "      <td>26729</td>\n",
       "      <td>5</td>\n",
       "      <td>Adoption</td>\n",
       "      <td>10769</td>\n",
       "      <td>NaT</td>\n",
       "      <td>NaT</td>\n",
       "    </tr>\n",
       "    <tr>\n",
       "      <th>AnimalType</th>\n",
       "      <td>26729</td>\n",
       "      <td>2</td>\n",
       "      <td>Dog</td>\n",
       "      <td>15595</td>\n",
       "      <td>NaT</td>\n",
       "      <td>NaT</td>\n",
       "    </tr>\n",
       "    <tr>\n",
       "      <th>SexuponOutcome</th>\n",
       "      <td>26728</td>\n",
       "      <td>5</td>\n",
       "      <td>Neutered Male</td>\n",
       "      <td>9779</td>\n",
       "      <td>NaT</td>\n",
       "      <td>NaT</td>\n",
       "    </tr>\n",
       "    <tr>\n",
       "      <th>AgeuponOutcome</th>\n",
       "      <td>26711</td>\n",
       "      <td>44</td>\n",
       "      <td>1 year</td>\n",
       "      <td>3969</td>\n",
       "      <td>NaT</td>\n",
       "      <td>NaT</td>\n",
       "    </tr>\n",
       "    <tr>\n",
       "      <th>Breed</th>\n",
       "      <td>26729</td>\n",
       "      <td>1380</td>\n",
       "      <td>Domestic Shorthair Mix</td>\n",
       "      <td>8810</td>\n",
       "      <td>NaT</td>\n",
       "      <td>NaT</td>\n",
       "    </tr>\n",
       "    <tr>\n",
       "      <th>Color</th>\n",
       "      <td>26729</td>\n",
       "      <td>366</td>\n",
       "      <td>Black/White</td>\n",
       "      <td>2824</td>\n",
       "      <td>NaT</td>\n",
       "      <td>NaT</td>\n",
       "    </tr>\n",
       "  </tbody>\n",
       "</table>\n",
       "</div>"
      ],
      "text/plain": [
       "                count unique                     top   freq  \\\n",
       "AnimalID        26729  26729                 A691031      1   \n",
       "Name            19038   6374                     Max    136   \n",
       "DateTime        26729  22918     2015-08-11 00:00:00     19   \n",
       "OutcomeType     26729      5                Adoption  10769   \n",
       "AnimalType      26729      2                     Dog  15595   \n",
       "SexuponOutcome  26728      5           Neutered Male   9779   \n",
       "AgeuponOutcome  26711     44                  1 year   3969   \n",
       "Breed           26729   1380  Domestic Shorthair Mix   8810   \n",
       "Color           26729    366             Black/White   2824   \n",
       "\n",
       "                             first                last  \n",
       "AnimalID                       NaT                 NaT  \n",
       "Name                           NaT                 NaT  \n",
       "DateTime       2013-10-01 09:31:00 2016-02-21 19:17:00  \n",
       "OutcomeType                    NaT                 NaT  \n",
       "AnimalType                     NaT                 NaT  \n",
       "SexuponOutcome                 NaT                 NaT  \n",
       "AgeuponOutcome                 NaT                 NaT  \n",
       "Breed                          NaT                 NaT  \n",
       "Color                          NaT                 NaT  "
      ]
     },
     "metadata": {},
     "output_type": "display_data"
    }
   ],
   "source": [
    "display_all(df.describe(include = 'all').T)"
   ]
  },
  {
   "cell_type": "markdown",
   "metadata": {},
   "source": [
    "Checking unique values of a few columns for better understanding"
   ]
  },
  {
   "cell_type": "code",
   "execution_count": 11,
   "metadata": {},
   "outputs": [
    {
     "data": {
      "text/plain": [
       "{'Adoption', 'Died', 'Euthanasia', 'Return_to_owner', 'Transfer'}"
      ]
     },
     "execution_count": 11,
     "metadata": {},
     "output_type": "execute_result"
    }
   ],
   "source": [
    "set(df.OutcomeType)"
   ]
  },
  {
   "cell_type": "code",
   "execution_count": 12,
   "metadata": {},
   "outputs": [
    {
     "data": {
      "text/plain": [
       "{'Cat', 'Dog'}"
      ]
     },
     "execution_count": 12,
     "metadata": {},
     "output_type": "execute_result"
    }
   ],
   "source": [
    "set(df.AnimalType)"
   ]
  },
  {
   "cell_type": "code",
   "execution_count": 13,
   "metadata": {},
   "outputs": [
    {
     "data": {
      "text/plain": [
       "{'Intact Female',\n",
       " 'Intact Male',\n",
       " 'Neutered Male',\n",
       " 'Spayed Female',\n",
       " 'Unknown',\n",
       " nan}"
      ]
     },
     "execution_count": 13,
     "metadata": {},
     "output_type": "execute_result"
    }
   ],
   "source": [
    "set(df.SexuponOutcome)"
   ]
  },
  {
   "cell_type": "code",
   "execution_count": 14,
   "metadata": {},
   "outputs": [
    {
     "data": {
      "text/plain": [
       "26729"
      ]
     },
     "execution_count": 14,
     "metadata": {},
     "output_type": "execute_result"
    }
   ],
   "source": [
    "len(df)"
   ]
  },
  {
   "cell_type": "markdown",
   "metadata": {},
   "source": [
    "Using the fastai add_datepart function to convert the DateTime column to a more usable form "
   ]
  },
  {
   "cell_type": "code",
   "execution_count": 15,
   "metadata": {},
   "outputs": [],
   "source": [
    "add_datepart(df, 'DateTime')"
   ]
  },
  {
   "cell_type": "code",
   "execution_count": 16,
   "metadata": {},
   "outputs": [
    {
     "data": {
      "text/plain": [
       "0     43\n",
       "1    286\n",
       "2     31\n",
       "3    192\n",
       "4    319\n",
       "Name: DateTimeDayofyear, dtype: int64"
      ]
     },
     "execution_count": 16,
     "metadata": {},
     "output_type": "execute_result"
    }
   ],
   "source": [
    "df.DateTimeDayofyear.head()"
   ]
  },
  {
   "cell_type": "markdown",
   "metadata": {},
   "source": [
    "The train_cats method converts all categorical column values to numbers. "
   ]
  },
  {
   "cell_type": "code",
   "execution_count": 17,
   "metadata": {},
   "outputs": [],
   "source": [
    "train_cats(df)"
   ]
  },
  {
   "cell_type": "code",
   "execution_count": 18,
   "metadata": {},
   "outputs": [
    {
     "data": {
      "text/plain": [
       "AgeuponOutcome              0.000673\n",
       "AnimalID                    0.000000\n",
       "AnimalType                  0.000000\n",
       "Breed                       0.000000\n",
       "Color                       0.000000\n",
       "DateTimeDay                 0.000000\n",
       "DateTimeDayofweek           0.000000\n",
       "DateTimeDayofyear           0.000000\n",
       "DateTimeElapsed             0.000000\n",
       "DateTimeIs_month_end        0.000000\n",
       "DateTimeIs_month_start      0.000000\n",
       "DateTimeIs_quarter_end      0.000000\n",
       "DateTimeIs_quarter_start    0.000000\n",
       "DateTimeIs_year_end         0.000000\n",
       "DateTimeIs_year_start       0.000000\n",
       "DateTimeMonth               0.000000\n",
       "DateTimeWeek                0.000000\n",
       "DateTimeYear                0.000000\n",
       "Name                        0.287740\n",
       "OutcomeType                 0.000000\n",
       "SexuponOutcome              0.000037\n",
       "dtype: float64"
      ]
     },
     "metadata": {},
     "output_type": "display_data"
    }
   ],
   "source": [
    "display_all(df.isnull().sum().sort_index()/len(df))"
   ]
  },
  {
   "cell_type": "markdown",
   "metadata": {},
   "source": [
    "The proc_df method, separates the response variable or the dependent variable (Here, OutcomeType) from the independent variables. Also it fills in NA values in every column with the median of that particular column."
   ]
  },
  {
   "cell_type": "code",
   "execution_count": 19,
   "metadata": {},
   "outputs": [],
   "source": [
    "X, y, nas = proc_df(df, 'OutcomeType')"
   ]
  },
  {
   "cell_type": "markdown",
   "metadata": {},
   "source": [
    "Training the model, try 1"
   ]
  },
  {
   "cell_type": "code",
   "execution_count": 20,
   "metadata": {},
   "outputs": [
    {
     "data": {
      "text/plain": [
       "1.0"
      ]
     },
     "execution_count": 20,
     "metadata": {},
     "output_type": "execute_result"
    }
   ],
   "source": [
    "m = RandomForestClassifier(n_jobs = -1)\n",
    "m.fit(X, y)\n",
    "m.score(X, y)"
   ]
  },
  {
   "cell_type": "markdown",
   "metadata": {},
   "source": [
    "Trained and tested the above model on the same data. It obviously is going to give really good results. Our goal is to train a model such that it gives good outputs for the data it has never seen before. \n",
    "\n",
    "Therefore, dividing the data into training and validation sets. "
   ]
  },
  {
   "cell_type": "code",
   "execution_count": 21,
   "metadata": {},
   "outputs": [
    {
     "data": {
      "text/plain": [
       "((22729, 20), (22729,), (4000, 20), (4000,))"
      ]
     },
     "execution_count": 21,
     "metadata": {},
     "output_type": "execute_result"
    }
   ],
   "source": [
    "def validation_split(a, n): return a[:n].copy(), a[n:].copy()\n",
    "\n",
    "n_valid = 4000\n",
    "n_trn = len(X) - n_valid\n",
    "raw_train, raw_valid = validation_split(df, n_trn)\n",
    "X_train, X_valid = validation_split(X, n_trn)\n",
    "y_train, y_valid = validation_split(y, n_trn)\n",
    "\n",
    "X_train.shape, y_train.shape, X_valid.shape, y_valid.shape"
   ]
  },
  {
   "cell_type": "code",
   "execution_count": 22,
   "metadata": {},
   "outputs": [],
   "source": [
    "def display_score(m):\n",
    "    res = [\n",
    "        m.score(X_train, y_train),\n",
    "        m.score(X_valid, y_valid)\n",
    "    ]\n",
    "    if hasattr(m, 'oob_score_'):\n",
    "        res.append(m.oob_score_)\n",
    "    print(res)"
   ]
  },
  {
   "cell_type": "markdown",
   "metadata": {},
   "source": [
    "Training the model, try 2"
   ]
  },
  {
   "cell_type": "code",
   "execution_count": 23,
   "metadata": {},
   "outputs": [
    {
     "name": "stdout",
     "output_type": "stream",
     "text": [
      "CPU times: user 6.11 s, sys: 50.5 ms, total: 6.16 s\n",
      "Wall time: 754 ms\n",
      "[1.0, 0.6455]\n"
     ]
    }
   ],
   "source": [
    "m = RandomForestClassifier(n_jobs = -1)\n",
    "%time m.fit(X_train, y_train)\n",
    "display_score(m)"
   ]
  },
  {
   "cell_type": "markdown",
   "metadata": {},
   "source": [
    "The validation accuracy is 0.651, which isn't good."
   ]
  },
  {
   "cell_type": "markdown",
   "metadata": {},
   "source": [
    "Our model is over fitted. To help prevent over fitting, I have changed the n_estimators parameter value to 1, which by default is 100. The n_estimators parameter basically defines the number of trees in the forest"
   ]
  },
  {
   "cell_type": "code",
   "execution_count": 24,
   "metadata": {},
   "outputs": [
    {
     "name": "stdout",
     "output_type": "stream",
     "text": [
      "[0.5277838884244798, 0.5185]\n"
     ]
    }
   ],
   "source": [
    "\"\"\"\n",
    "the RandomForestClassifier from the sklearn library has various attributes,\n",
    "n_estimators : lets us set the number of trees to grow while training.\n",
    "max_depth : lets us set the maxiumum path (starting from root to a leaf node) for the trees\n",
    "boostrap : Takes values True or False. Disables/enables randomization\n",
    "n_jobs : lets us select the number of CPU cores to use while training. -1 means use all available cores.\n",
    "\"\"\"\n",
    "m = RandomForestClassifier(n_estimators = 1, max_depth = 3, bootstrap = False, n_jobs = -1)\n",
    "m.fit(X_train, y_train)\n",
    "\n",
    "display_score(m)"
   ]
  },
  {
   "cell_type": "markdown",
   "metadata": {},
   "source": [
    "The validation accuracy is worse than our previous model, which was using 10 n_estimators. To overcome this problem, I will be using a technique called Bagging. It's an ensemble technique, which basically states \"averaging a bunch of crappy models is going to give us a really good model\". Basically I will be creating multiple trees, averaging their errors and using the averaged model. One thing to take care of, all these individual models/trees should be as uncorrelated as possible. What I mean is, there shouldn't be and relationship between these individual trees. Otherwise, the bias of our model is going to be very high, which will lead to underfitting. "
   ]
  },
  {
   "cell_type": "code",
   "execution_count": 25,
   "metadata": {},
   "outputs": [
    {
     "name": "stdout",
     "output_type": "stream",
     "text": [
      "[0.985877073342426, 0.63525]\n"
     ]
    }
   ],
   "source": [
    "m = RandomForestClassifier(n_jobs = -1, n_estimators = 10)\n",
    "m.fit(X_train, y_train)\n",
    "display_score(m)"
   ]
  },
  {
   "cell_type": "markdown",
   "metadata": {},
   "source": [
    "Here, by default, the n_estimators variable takes the value of 100, but we will be using 10 trees only. I'll grab predictions from each of these individual trees and will be looking at one of these."
   ]
  },
  {
   "cell_type": "code",
   "execution_count": 26,
   "metadata": {},
   "outputs": [
    {
     "data": {
      "text/plain": [
       "(array([1., 4., 4., 4., 4., 4., 0., 2., 4., 4.]), 3.1, 4)"
      ]
     },
     "execution_count": 26,
     "metadata": {},
     "output_type": "execute_result"
    }
   ],
   "source": [
    "predictions = np.stack([t.predict(X_valid) for t in m.estimators_])\n",
    "\"\"\"\n",
    "estimators_ : is an attribute of the RandomForestClassifer, which contains information about each estimator/tree\n",
    "\"\"\"\n",
    "predictions[:,0], np.mean(predictions[:,0]), y_valid[0]"
   ]
  },
  {
   "cell_type": "code",
   "execution_count": 27,
   "metadata": {},
   "outputs": [
    {
     "data": {
      "text/plain": [
       "(10, 4000)"
      ]
     },
     "execution_count": 27,
     "metadata": {},
     "output_type": "execute_result"
    }
   ],
   "source": [
    "predictions.shape"
   ]
  },
  {
   "cell_type": "code",
   "execution_count": 28,
   "metadata": {},
   "outputs": [
    {
     "data": {
      "image/png": "[encoded data removed]",
      "text/plain": [
       "<Figure size 432x288 with 1 Axes>"
      ]
     },
     "metadata": {
      "needs_background": "light"
     },
     "output_type": "display_data"
    }
   ],
   "source": [
    "plt.plot([metrics.r2_score(y_valid, np.mean(predictions[:i+1], axis=0)) for i in range(10)]);"
   ]
  },
  {
   "cell_type": "markdown",
   "metadata": {},
   "source": [
    "This curve really means that the parameter, n_estimators is almost tuned. Increasing ot decreasing the number of trees isnt going to help much."
   ]
  },
  {
   "cell_type": "code",
   "execution_count": 29,
   "metadata": {},
   "outputs": [
    {
     "name": "stdout",
     "output_type": "stream",
     "text": [
      "[0.9974481939372608, 0.64]\n"
     ]
    }
   ],
   "source": [
    "# Trying to use n_estimators = 20 and 40\n",
    "\n",
    "m = RandomForestClassifier(n_estimators = 20, n_jobs = -1)\n",
    "m.fit(X_train, y_train)\n",
    "display_score(m)"
   ]
  },
  {
   "cell_type": "code",
   "execution_count": 30,
   "metadata": {},
   "outputs": [
    {
     "name": "stdout",
     "output_type": "stream",
     "text": [
      "[0.9996920234062211, 0.651]\n"
     ]
    }
   ],
   "source": [
    "m = RandomForestClassifier(n_estimators = 40, n_jobs = -1)\n",
    "m.fit(X_train, y_train)\n",
    "display_score(m)"
   ]
  },
  {
   "cell_type": "code",
   "execution_count": 31,
   "metadata": {},
   "outputs": [
    {
     "name": "stderr",
     "output_type": "stream",
     "text": [
      "/home/muffinloop/anaconda3/envs/fastai/lib/python3.7/site-packages/sklearn/ensemble/_forest.py:523: UserWarning: Some inputs do not have OOB scores. This probably means too few trees were used to compute any reliable oob estimates.\n",
      "  warn(\"Some inputs do not have OOB scores. \"\n",
      "/home/muffinloop/anaconda3/envs/fastai/lib/python3.7/site-packages/sklearn/ensemble/_forest.py:528: RuntimeWarning: invalid value encountered in true_divide\n",
      "  predictions[k].sum(axis=1)[:, np.newaxis])\n"
     ]
    },
    {
     "name": "stdout",
     "output_type": "stream",
     "text": [
      "[0.985525100092393, 0.63375, 0.5856394913986537]\n"
     ]
    }
   ],
   "source": [
    "m = RandomForestClassifier(n_jobs = -1, n_estimators = 10, oob_score = True)\n",
    "m.fit(X_train, y_train)\n",
    "display_score(m)"
   ]
  },
  {
   "cell_type": "markdown",
   "metadata": {},
   "source": [
    "This model is still overfitted. Lets reduce it."
   ]
  },
  {
   "cell_type": "code",
   "execution_count": 32,
   "metadata": {},
   "outputs": [],
   "source": [
    "# Using subsampling\n",
    "\n",
    "x_trn, y_trn, nas = proc_df(df, 'OutcomeType')\n",
    "X_train, X_valid = validation_split(x_trn, n_trn)\n",
    "y_train, y_valid = validation_split(y_trn, n_trn)"
   ]
  },
  {
   "cell_type": "code",
   "execution_count": 33,
   "metadata": {},
   "outputs": [
    {
     "data": {
      "text/plain": [
       "((22729, 20), (22729,))"
      ]
     },
     "execution_count": 33,
     "metadata": {},
     "output_type": "execute_result"
    }
   ],
   "source": [
    "X_train.shape, y_train.shape"
   ]
  },
  {
   "cell_type": "markdown",
   "metadata": {},
   "source": [
    "We want our model to see all the data, also ensuring that there is minimal correlation between individual models. We can achieve this by Subsampling, that is for this dataset, I took all 26729 rows, divided them into training and validation sets. While training, I'll be feeding each tree a different subset of my training data. This reduces the probability of two individual models seeing the same subset of data"
   ]
  },
  {
   "cell_type": "code",
   "execution_count": 34,
   "metadata": {},
   "outputs": [],
   "source": [
    "set_rf_samples(1500)"
   ]
  },
  {
   "cell_type": "code",
   "execution_count": 35,
   "metadata": {},
   "outputs": [
    {
     "name": "stderr",
     "output_type": "stream",
     "text": [
      "/home/muffinloop/anaconda3/envs/fastai/lib/python3.7/site-packages/sklearn/ensemble/_forest.py:523: UserWarning: Some inputs do not have OOB scores. This probably means too few trees were used to compute any reliable oob estimates.\n",
      "  warn(\"Some inputs do not have OOB scores. \"\n",
      "/home/muffinloop/anaconda3/envs/fastai/lib/python3.7/site-packages/sklearn/ensemble/_forest.py:528: RuntimeWarning: invalid value encountered in true_divide\n",
      "  predictions[k].sum(axis=1)[:, np.newaxis])\n"
     ]
    },
    {
     "name": "stdout",
     "output_type": "stream",
     "text": [
      "[0.9835452505609573, 0.625, 0.5867394078050068]\n"
     ]
    }
   ],
   "source": [
    "m = RandomForestClassifier(n_jobs = -1, n_estimators = 10, oob_score= True)\n",
    "m.fit(X_train, y_train)\n",
    "display_score(m)"
   ]
  },
  {
   "cell_type": "markdown",
   "metadata": {},
   "source": [
    "Since using the subsampling approach ensures that our model sees all the data. I am going to try use a higher value for the parameter n_estimators"
   ]
  },
  {
   "cell_type": "code",
   "execution_count": 36,
   "metadata": {},
   "outputs": [
    {
     "name": "stderr",
     "output_type": "stream",
     "text": [
      "/home/muffinloop/anaconda3/envs/fastai/lib/python3.7/site-packages/sklearn/ensemble/_forest.py:523: UserWarning: Some inputs do not have OOB scores. This probably means too few trees were used to compute any reliable oob estimates.\n",
      "  warn(\"Some inputs do not have OOB scores. \"\n",
      "/home/muffinloop/anaconda3/envs/fastai/lib/python3.7/site-packages/sklearn/ensemble/_forest.py:528: RuntimeWarning: invalid value encountered in true_divide\n",
      "  predictions[k].sum(axis=1)[:, np.newaxis])\n"
     ]
    },
    {
     "name": "stdout",
     "output_type": "stream",
     "text": [
      "[0.9973602006247525, 0.646, 0.622816665933389]\n"
     ]
    }
   ],
   "source": [
    "m = RandomForestClassifier(n_jobs = -1, n_estimators = 20, oob_score = True)\n",
    "m.fit(X_train, y_train)\n",
    "display_score(m)"
   ]
  },
  {
   "cell_type": "code",
   "execution_count": 37,
   "metadata": {},
   "outputs": [
    {
     "name": "stdout",
     "output_type": "stream",
     "text": [
      "[0.9996040300937129, 0.64725, 0.6383474855910951]\n"
     ]
    }
   ],
   "source": [
    "m = RandomForestClassifier(n_jobs = -1, n_estimators = 40, oob_score = True)\n",
    "m.fit(X_train, y_train)\n",
    "display_score(m)"
   ]
  },
  {
   "cell_type": "code",
   "execution_count": 38,
   "metadata": {},
   "outputs": [
    {
     "name": "stdout",
     "output_type": "stream",
     "text": [
      "{'max_features': 'log2', 'n_estimators': 400}\n"
     ]
    }
   ],
   "source": [
    "def best_params(train_x, train_y):\n",
    "    rfc = RandomForestClassifier()\n",
    "    param_grid = { \n",
    "        'n_estimators': [50, 400],\n",
    "        'max_features': ['auto', 'sqrt', 'log2']\n",
    "    }\n",
    "    \n",
    "    CV_rfc = GridSearchCV(estimator=rfc, param_grid=param_grid, cv= 5)\n",
    "    CV_rfc.fit(train_x, train_y)\n",
    "    return CV_rfc.best_params_\n",
    "\n",
    "print(best_params(X_train, y_train))"
   ]
  },
  {
   "cell_type": "markdown",
   "metadata": {},
   "source": [
    "Since I have tried many approaches to train my model and to prevent over fitting, I am going to test my model's predictions on a completely new dataset provided by kaggle itself. "
   ]
  },
  {
   "cell_type": "code",
   "execution_count": 39,
   "metadata": {
    "scrolled": true
   },
   "outputs": [
    {
     "data": {
      "text/html": [
       "<div>\n",
       "<style scoped>\n",
       "    .dataframe tbody tr th:only-of-type {\n",
       "        vertical-align: middle;\n",
       "    }\n",
       "\n",
       "    .dataframe tbody tr th {\n",
       "        vertical-align: top;\n",
       "    }\n",
       "\n",
       "    .dataframe thead th {\n",
       "        text-align: right;\n",
       "    }\n",
       "</style>\n",
       "<table border=\"1\" class=\"dataframe\">\n",
       "  <thead>\n",
       "    <tr style=\"text-align: right;\">\n",
       "      <th></th>\n",
       "      <th>ID</th>\n",
       "      <th>Name</th>\n",
       "      <th>DateTime</th>\n",
       "      <th>AnimalType</th>\n",
       "      <th>SexuponOutcome</th>\n",
       "      <th>AgeuponOutcome</th>\n",
       "      <th>Breed</th>\n",
       "      <th>Color</th>\n",
       "    </tr>\n",
       "  </thead>\n",
       "  <tbody>\n",
       "    <tr>\n",
       "      <th>0</th>\n",
       "      <td>1</td>\n",
       "      <td>Summer</td>\n",
       "      <td>2015-10-12 12:15:00</td>\n",
       "      <td>Dog</td>\n",
       "      <td>Intact Female</td>\n",
       "      <td>10 months</td>\n",
       "      <td>Labrador Retriever Mix</td>\n",
       "      <td>Red/White</td>\n",
       "    </tr>\n",
       "    <tr>\n",
       "      <th>1</th>\n",
       "      <td>2</td>\n",
       "      <td>Cheyenne</td>\n",
       "      <td>2014-07-26 17:59:00</td>\n",
       "      <td>Dog</td>\n",
       "      <td>Spayed Female</td>\n",
       "      <td>2 years</td>\n",
       "      <td>German Shepherd/Siberian Husky</td>\n",
       "      <td>Black/Tan</td>\n",
       "    </tr>\n",
       "    <tr>\n",
       "      <th>2</th>\n",
       "      <td>3</td>\n",
       "      <td>Gus</td>\n",
       "      <td>2016-01-13 12:20:00</td>\n",
       "      <td>Cat</td>\n",
       "      <td>Neutered Male</td>\n",
       "      <td>1 year</td>\n",
       "      <td>Domestic Shorthair Mix</td>\n",
       "      <td>Brown Tabby</td>\n",
       "    </tr>\n",
       "    <tr>\n",
       "      <th>3</th>\n",
       "      <td>4</td>\n",
       "      <td>Pongo</td>\n",
       "      <td>2013-12-28 18:12:00</td>\n",
       "      <td>Dog</td>\n",
       "      <td>Intact Male</td>\n",
       "      <td>4 months</td>\n",
       "      <td>Collie Smooth Mix</td>\n",
       "      <td>Tricolor</td>\n",
       "    </tr>\n",
       "    <tr>\n",
       "      <th>4</th>\n",
       "      <td>5</td>\n",
       "      <td>Skooter</td>\n",
       "      <td>2015-09-24 17:59:00</td>\n",
       "      <td>Dog</td>\n",
       "      <td>Neutered Male</td>\n",
       "      <td>2 years</td>\n",
       "      <td>Miniature Poodle Mix</td>\n",
       "      <td>White</td>\n",
       "    </tr>\n",
       "  </tbody>\n",
       "</table>\n",
       "</div>"
      ],
      "text/plain": [
       "   ID      Name            DateTime AnimalType SexuponOutcome AgeuponOutcome  \\\n",
       "0   1    Summer 2015-10-12 12:15:00        Dog  Intact Female      10 months   \n",
       "1   2  Cheyenne 2014-07-26 17:59:00        Dog  Spayed Female        2 years   \n",
       "2   3       Gus 2016-01-13 12:20:00        Cat  Neutered Male         1 year   \n",
       "3   4     Pongo 2013-12-28 18:12:00        Dog    Intact Male       4 months   \n",
       "4   5   Skooter 2015-09-24 17:59:00        Dog  Neutered Male        2 years   \n",
       "\n",
       "                            Breed        Color  \n",
       "0          Labrador Retriever Mix    Red/White  \n",
       "1  German Shepherd/Siberian Husky    Black/Tan  \n",
       "2          Domestic Shorthair Mix  Brown Tabby  \n",
       "3               Collie Smooth Mix     Tricolor  \n",
       "4            Miniature Poodle Mix        White  "
      ]
     },
     "execution_count": 39,
     "metadata": {},
     "output_type": "execute_result"
    }
   ],
   "source": [
    "test_ = pd.read_csv(f'{PATH}test.csv', low_memory = False, parse_dates = ['DateTime'])\n",
    "test_.head()"
   ]
  },
  {
   "cell_type": "code",
   "execution_count": 40,
   "metadata": {},
   "outputs": [],
   "source": [
    "add_datepart(test_, 'DateTime')"
   ]
  },
  {
   "cell_type": "code",
   "execution_count": 41,
   "metadata": {},
   "outputs": [
    {
     "data": {
      "text/plain": [
       "0    285\n",
       "1    207\n",
       "2     13\n",
       "3    362\n",
       "4    267\n",
       "Name: DateTimeDayofyear, dtype: int64"
      ]
     },
     "execution_count": 41,
     "metadata": {},
     "output_type": "execute_result"
    }
   ],
   "source": [
    "test_.DateTimeDayofyear.head()"
   ]
  },
  {
   "cell_type": "code",
   "execution_count": 42,
   "metadata": {},
   "outputs": [],
   "source": [
    "train_cats(test_)"
   ]
  },
  {
   "cell_type": "code",
   "execution_count": 43,
   "metadata": {},
   "outputs": [
    {
     "data": {
      "text/plain": [
       "AgeuponOutcome              0.000524\n",
       "AnimalType                  0.000000\n",
       "Breed                       0.000000\n",
       "Color                       0.000000\n",
       "DateTimeDay                 0.000000\n",
       "DateTimeDayofweek           0.000000\n",
       "DateTimeDayofyear           0.000000\n",
       "DateTimeElapsed             0.000000\n",
       "DateTimeIs_month_end        0.000000\n",
       "DateTimeIs_month_start      0.000000\n",
       "DateTimeIs_quarter_end      0.000000\n",
       "DateTimeIs_quarter_start    0.000000\n",
       "DateTimeIs_year_end         0.000000\n",
       "DateTimeIs_year_start       0.000000\n",
       "DateTimeMonth               0.000000\n",
       "DateTimeWeek                0.000000\n",
       "DateTimeYear                0.000000\n",
       "ID                          0.000000\n",
       "Name                        0.281512\n",
       "SexuponOutcome              0.000000\n",
       "dtype: float64"
      ]
     },
     "metadata": {},
     "output_type": "display_data"
    }
   ],
   "source": [
    "display_all(test_.isnull().sum().sort_index()/len(test_))"
   ]
  },
  {
   "cell_type": "code",
   "execution_count": 44,
   "metadata": {},
   "outputs": [
    {
     "data": {
      "text/html": [
       "<div>\n",
       "<style scoped>\n",
       "    .dataframe tbody tr th:only-of-type {\n",
       "        vertical-align: middle;\n",
       "    }\n",
       "\n",
       "    .dataframe tbody tr th {\n",
       "        vertical-align: top;\n",
       "    }\n",
       "\n",
       "    .dataframe thead th {\n",
       "        text-align: right;\n",
       "    }\n",
       "</style>\n",
       "<table border=\"1\" class=\"dataframe\">\n",
       "  <thead>\n",
       "    <tr style=\"text-align: right;\">\n",
       "      <th></th>\n",
       "      <th>ID</th>\n",
       "      <th>Name</th>\n",
       "      <th>AnimalType</th>\n",
       "      <th>SexuponOutcome</th>\n",
       "      <th>AgeuponOutcome</th>\n",
       "      <th>Breed</th>\n",
       "      <th>Color</th>\n",
       "      <th>DateTimeYear</th>\n",
       "      <th>DateTimeMonth</th>\n",
       "      <th>DateTimeWeek</th>\n",
       "      <th>DateTimeDay</th>\n",
       "      <th>DateTimeDayofweek</th>\n",
       "      <th>DateTimeDayofyear</th>\n",
       "      <th>DateTimeIs_month_end</th>\n",
       "      <th>DateTimeIs_month_start</th>\n",
       "      <th>DateTimeIs_quarter_end</th>\n",
       "      <th>DateTimeIs_quarter_start</th>\n",
       "      <th>DateTimeIs_year_end</th>\n",
       "      <th>DateTimeIs_year_start</th>\n",
       "      <th>DateTimeElapsed</th>\n",
       "    </tr>\n",
       "  </thead>\n",
       "  <tbody>\n",
       "    <tr>\n",
       "      <th>0</th>\n",
       "      <td>1</td>\n",
       "      <td>Summer</td>\n",
       "      <td>Dog</td>\n",
       "      <td>Intact Female</td>\n",
       "      <td>10 months</td>\n",
       "      <td>Labrador Retriever Mix</td>\n",
       "      <td>Red/White</td>\n",
       "      <td>2015</td>\n",
       "      <td>10</td>\n",
       "      <td>42</td>\n",
       "      <td>12</td>\n",
       "      <td>0</td>\n",
       "      <td>285</td>\n",
       "      <td>False</td>\n",
       "      <td>False</td>\n",
       "      <td>False</td>\n",
       "      <td>False</td>\n",
       "      <td>False</td>\n",
       "      <td>False</td>\n",
       "      <td>1444652100</td>\n",
       "    </tr>\n",
       "    <tr>\n",
       "      <th>1</th>\n",
       "      <td>2</td>\n",
       "      <td>Cheyenne</td>\n",
       "      <td>Dog</td>\n",
       "      <td>Spayed Female</td>\n",
       "      <td>2 years</td>\n",
       "      <td>German Shepherd/Siberian Husky</td>\n",
       "      <td>Black/Tan</td>\n",
       "      <td>2014</td>\n",
       "      <td>7</td>\n",
       "      <td>30</td>\n",
       "      <td>26</td>\n",
       "      <td>5</td>\n",
       "      <td>207</td>\n",
       "      <td>False</td>\n",
       "      <td>False</td>\n",
       "      <td>False</td>\n",
       "      <td>False</td>\n",
       "      <td>False</td>\n",
       "      <td>False</td>\n",
       "      <td>1406397540</td>\n",
       "    </tr>\n",
       "    <tr>\n",
       "      <th>2</th>\n",
       "      <td>3</td>\n",
       "      <td>Gus</td>\n",
       "      <td>Cat</td>\n",
       "      <td>Neutered Male</td>\n",
       "      <td>1 year</td>\n",
       "      <td>Domestic Shorthair Mix</td>\n",
       "      <td>Brown Tabby</td>\n",
       "      <td>2016</td>\n",
       "      <td>1</td>\n",
       "      <td>2</td>\n",
       "      <td>13</td>\n",
       "      <td>2</td>\n",
       "      <td>13</td>\n",
       "      <td>False</td>\n",
       "      <td>False</td>\n",
       "      <td>False</td>\n",
       "      <td>False</td>\n",
       "      <td>False</td>\n",
       "      <td>False</td>\n",
       "      <td>1452687600</td>\n",
       "    </tr>\n",
       "    <tr>\n",
       "      <th>3</th>\n",
       "      <td>4</td>\n",
       "      <td>Pongo</td>\n",
       "      <td>Dog</td>\n",
       "      <td>Intact Male</td>\n",
       "      <td>4 months</td>\n",
       "      <td>Collie Smooth Mix</td>\n",
       "      <td>Tricolor</td>\n",
       "      <td>2013</td>\n",
       "      <td>12</td>\n",
       "      <td>52</td>\n",
       "      <td>28</td>\n",
       "      <td>5</td>\n",
       "      <td>362</td>\n",
       "      <td>False</td>\n",
       "      <td>False</td>\n",
       "      <td>False</td>\n",
       "      <td>False</td>\n",
       "      <td>False</td>\n",
       "      <td>False</td>\n",
       "      <td>1388254320</td>\n",
       "    </tr>\n",
       "    <tr>\n",
       "      <th>4</th>\n",
       "      <td>5</td>\n",
       "      <td>Skooter</td>\n",
       "      <td>Dog</td>\n",
       "      <td>Neutered Male</td>\n",
       "      <td>2 years</td>\n",
       "      <td>Miniature Poodle Mix</td>\n",
       "      <td>White</td>\n",
       "      <td>2015</td>\n",
       "      <td>9</td>\n",
       "      <td>39</td>\n",
       "      <td>24</td>\n",
       "      <td>3</td>\n",
       "      <td>267</td>\n",
       "      <td>False</td>\n",
       "      <td>False</td>\n",
       "      <td>False</td>\n",
       "      <td>False</td>\n",
       "      <td>False</td>\n",
       "      <td>False</td>\n",
       "      <td>1443117540</td>\n",
       "    </tr>\n",
       "  </tbody>\n",
       "</table>\n",
       "</div>"
      ],
      "text/plain": [
       "   ID      Name AnimalType SexuponOutcome AgeuponOutcome  \\\n",
       "0   1    Summer        Dog  Intact Female      10 months   \n",
       "1   2  Cheyenne        Dog  Spayed Female        2 years   \n",
       "2   3       Gus        Cat  Neutered Male         1 year   \n",
       "3   4     Pongo        Dog    Intact Male       4 months   \n",
       "4   5   Skooter        Dog  Neutered Male        2 years   \n",
       "\n",
       "                            Breed        Color  DateTimeYear  DateTimeMonth  \\\n",
       "0          Labrador Retriever Mix    Red/White          2015             10   \n",
       "1  German Shepherd/Siberian Husky    Black/Tan          2014              7   \n",
       "2          Domestic Shorthair Mix  Brown Tabby          2016              1   \n",
       "3               Collie Smooth Mix     Tricolor          2013             12   \n",
       "4            Miniature Poodle Mix        White          2015              9   \n",
       "\n",
       "   DateTimeWeek  DateTimeDay  DateTimeDayofweek  DateTimeDayofyear  \\\n",
       "0            42           12                  0                285   \n",
       "1            30           26                  5                207   \n",
       "2             2           13                  2                 13   \n",
       "3            52           28                  5                362   \n",
       "4            39           24                  3                267   \n",
       "\n",
       "   DateTimeIs_month_end  DateTimeIs_month_start  DateTimeIs_quarter_end  \\\n",
       "0                 False                   False                   False   \n",
       "1                 False                   False                   False   \n",
       "2                 False                   False                   False   \n",
       "3                 False                   False                   False   \n",
       "4                 False                   False                   False   \n",
       "\n",
       "   DateTimeIs_quarter_start  DateTimeIs_year_end  DateTimeIs_year_start  \\\n",
       "0                     False                False                  False   \n",
       "1                     False                False                  False   \n",
       "2                     False                False                  False   \n",
       "3                     False                False                  False   \n",
       "4                     False                False                  False   \n",
       "\n",
       "   DateTimeElapsed  \n",
       "0       1444652100  \n",
       "1       1406397540  \n",
       "2       1452687600  \n",
       "3       1388254320  \n",
       "4       1443117540  "
      ]
     },
     "execution_count": 44,
     "metadata": {},
     "output_type": "execute_result"
    }
   ],
   "source": [
    "test_.head()"
   ]
  },
  {
   "cell_type": "code",
   "execution_count": 45,
   "metadata": {},
   "outputs": [],
   "source": [
    "X_test, _, nas = proc_df(test_)"
   ]
  },
  {
   "cell_type": "code",
   "execution_count": 46,
   "metadata": {},
   "outputs": [
    {
     "name": "stdout",
     "output_type": "stream",
     "text": [
      "Cross Validation for RandomForestClassifier\n",
      "0.652\n"
     ]
    },
    {
     "data": {
      "text/html": [
       "<div>\n",
       "<style scoped>\n",
       "    .dataframe tbody tr th:only-of-type {\n",
       "        vertical-align: middle;\n",
       "    }\n",
       "\n",
       "    .dataframe tbody tr th {\n",
       "        vertical-align: top;\n",
       "    }\n",
       "\n",
       "    .dataframe thead th {\n",
       "        text-align: right;\n",
       "    }\n",
       "</style>\n",
       "<table border=\"1\" class=\"dataframe\">\n",
       "  <thead>\n",
       "    <tr style=\"text-align: right;\">\n",
       "      <th></th>\n",
       "      <th>ID</th>\n",
       "      <th>Adoption</th>\n",
       "      <th>Died</th>\n",
       "      <th>Euthanasia</th>\n",
       "      <th>Return_to_owner</th>\n",
       "      <th>Transfer</th>\n",
       "    </tr>\n",
       "  </thead>\n",
       "  <tbody>\n",
       "    <tr>\n",
       "      <th>0</th>\n",
       "      <td>1</td>\n",
       "      <td>0.0550</td>\n",
       "      <td>0.0000</td>\n",
       "      <td>0.2725</td>\n",
       "      <td>0.3425</td>\n",
       "      <td>0.3300</td>\n",
       "    </tr>\n",
       "    <tr>\n",
       "      <th>1</th>\n",
       "      <td>2</td>\n",
       "      <td>0.3500</td>\n",
       "      <td>0.0000</td>\n",
       "      <td>0.0575</td>\n",
       "      <td>0.4875</td>\n",
       "      <td>0.1050</td>\n",
       "    </tr>\n",
       "    <tr>\n",
       "      <th>2</th>\n",
       "      <td>3</td>\n",
       "      <td>0.3975</td>\n",
       "      <td>0.0050</td>\n",
       "      <td>0.0650</td>\n",
       "      <td>0.3150</td>\n",
       "      <td>0.2175</td>\n",
       "    </tr>\n",
       "    <tr>\n",
       "      <th>3</th>\n",
       "      <td>4</td>\n",
       "      <td>0.1250</td>\n",
       "      <td>0.0000</td>\n",
       "      <td>0.2800</td>\n",
       "      <td>0.2800</td>\n",
       "      <td>0.3150</td>\n",
       "    </tr>\n",
       "    <tr>\n",
       "      <th>4</th>\n",
       "      <td>5</td>\n",
       "      <td>0.2050</td>\n",
       "      <td>0.0025</td>\n",
       "      <td>0.1525</td>\n",
       "      <td>0.5100</td>\n",
       "      <td>0.1300</td>\n",
       "    </tr>\n",
       "  </tbody>\n",
       "</table>\n",
       "</div>"
      ],
      "text/plain": [
       "   ID  Adoption    Died  Euthanasia  Return_to_owner  Transfer\n",
       "0   1    0.0550  0.0000      0.2725           0.3425    0.3300\n",
       "1   2    0.3500  0.0000      0.0575           0.4875    0.1050\n",
       "2   3    0.3975  0.0050      0.0650           0.3150    0.2175\n",
       "3   4    0.1250  0.0000      0.2800           0.2800    0.3150\n",
       "4   5    0.2050  0.0025      0.1525           0.5100    0.1300"
      ]
     },
     "execution_count": 46,
     "metadata": {},
     "output_type": "execute_result"
    }
   ],
   "source": [
    "m = RandomForestClassifier(n_estimators=400, max_features='log2').fit(X_train, y_train)\n",
    "print('Cross Validation for RandomForestClassifier')\n",
    "print(m.score(X_valid, y_valid))\n",
    "\n",
    "prediction = pd.DataFrame(m.predict_proba(X_test))\n",
    "prediction.columns = ['Adoption', 'Died', 'Euthanasia', 'Return_to_owner', 'Transfer']\n",
    "prediction = pd.concat([X_test['ID'], prediction], axis=1)\n",
    "prediction.to_csv('randomforest.csv', index=False)\n",
    "\n",
    "prediction.head()"
   ]
  },
  {
   "cell_type": "code",
   "execution_count": null,
   "metadata": {},
   "outputs": [],
   "source": []
  }
 ],
 "metadata": {
  "kernelspec": {
   "display_name": "Python 3",
   "language": "python",
   "name": "python3"
  },
  "language_info": {
   "codemirror_mode": {
    "name": "ipython",
    "version": 3
   },
   "file_extension": ".py",
   "mimetype": "text/x-python",
   "name": "python",
   "nbconvert_exporter": "python",
   "pygments_lexer": "ipython3",
   "version": "3.7.7"
  }
 },
 "nbformat": 4,
 "nbformat_minor": 4
}
